{
 "cells": [
  {
   "cell_type": "markdown",
   "metadata": {},
   "source": [
    "## Filtrado de correos spam\n",
    "\n",
    "En esta ocasión vamos a ver una solución al famoso problema de clasificación de correos **spam**/**ham** para el consecuente filtrado de los no deseados. Es un tipo de ejercicio en el que se requiere hacer uso de técnicas de **procesamiento de lenguaje natural**, para generar un conjunto de datos que puedan ser introducidos como entrada al modelo clasificador entrenado. A lo largo de este *notebook* se irá explicando paso por paso las operaciones realizadas sobre el conjunto de correos original.\n",
    "\n",
    "## Datos\n",
    "\n",
    "La base de datos esta formada por un total de 3052 correos electrónicos de entre los cuales 2551 están etiquetados como *ham* y 501 como *spam*. Este conjunto de datos puede encontrarse en la página oficial de Apache SpamAssassin, siguiendo el siguiente enlace: http://spamassassin.apache.org/old/publiccorpus/"
   ]
  },
  {
   "cell_type": "code",
   "execution_count": 1,
   "metadata": {},
   "outputs": [],
   "source": [
    "import os\n",
    "import numpy as np\n",
    "import pandas as pd\n",
    "import email\n",
    "import email.policy\n",
    "from bs4 import BeautifulSoup\n",
    "from sklearn.model_selection import train_test_split\n",
    "import spacy\n",
    "import urlextract    \n",
    "import re\n",
    "from scipy.sparse import csr_matrix\n",
    "from collections import Counter\n",
    "import matplotlib.pyplot as plt\n",
    "import seaborn as sns\n",
    "import time\n",
    "sns.set_style('dark')\n",
    "%matplotlib inline\n"
   ]
  },
  {
   "cell_type": "code",
   "execution_count": 2,
   "metadata": {},
   "outputs": [],
   "source": [
    "spam_path='datasets/mails/spam'\n",
    "ham_path='datasets/mails/ham'"
   ]
  },
  {
   "cell_type": "markdown",
   "metadata": {},
   "source": [
    "Cargamos los correos previamente descargados de forma separada en dos carpetas distintas. Para ello hacemos uso de la libreria **email** (la cual se irá utilizando durante toda la resolución del problema) de Python, con la que es posible hacer un parseo por bytes de los mismos."
   ]
  },
  {
   "cell_type": "code",
   "execution_count": 3,
   "metadata": {},
   "outputs": [],
   "source": [
    "def load_mails(spam_path, ham_path):\n",
    "    spam_list=[]\n",
    "    ham_list=[]\n",
    "    for mail_name in os.listdir(spam_path):\n",
    "        with open(spam_path+'/'+mail_name, 'rb') as file:\n",
    "            spam_list.append(email.parser.BytesParser(policy=email.policy.default).parse(file))\n",
    "    for mail_name in os.listdir(ham_path):\n",
    "        with open(ham_path+'/'+mail_name, 'rb') as file:\n",
    "            ham_list.append(email.parser.BytesParser(policy=email.policy.default).parse(file))  \n",
    "    return (spam_list,ham_list)"
   ]
  },
  {
   "cell_type": "code",
   "execution_count": 4,
   "metadata": {},
   "outputs": [],
   "source": [
    "spam_list, ham_list=load_mails(spam_path,ham_path)"
   ]
  },
  {
   "cell_type": "markdown",
   "metadata": {},
   "source": [
    "Antes de nada generamos los *numpy array* de correos y etiquetas, que utilizamos para separar nuestro set de entrenamiento y set de testeo"
   ]
  },
  {
   "cell_type": "code",
   "execution_count": 5,
   "metadata": {},
   "outputs": [],
   "source": [
    "X=np.concatenate((np.array(spam_list), np.array(ham_list)), axis=0)\n",
    "y=np.concatenate((np.ones(len(spam_list)).astype(np.int8), np.zeros(len(ham_list), dtype=int)))"
   ]
  },
  {
   "cell_type": "code",
   "execution_count": 6,
   "metadata": {},
   "outputs": [
    {
     "data": {
      "text/plain": [
       "((3052,), (3052,))"
      ]
     },
     "execution_count": 6,
     "metadata": {},
     "output_type": "execute_result"
    }
   ],
   "source": [
    "X.shape, y.shape"
   ]
  },
  {
   "cell_type": "code",
   "execution_count": 7,
   "metadata": {},
   "outputs": [],
   "source": [
    "X_train, X_test, y_train, y_test=train_test_split(X, y, test_size=0.2, random_state=42)"
   ]
  },
  {
   "cell_type": "code",
   "execution_count": 8,
   "metadata": {},
   "outputs": [
    {
     "data": {
      "text/plain": [
       "((2441,), (2441,), (611,), (611,))"
      ]
     },
     "execution_count": 8,
     "metadata": {},
     "output_type": "execute_result"
    }
   ],
   "source": [
    "X_train.shape, y_train.shape, X_test.shape, y_test.shape"
   ]
  },
  {
   "cell_type": "markdown",
   "metadata": {},
   "source": [
    "Mediante esta línea de código se carga el modelo (de lengua inglesa) perteneciente a la librería **Spacy**.\n",
    "\n",
    "Spacy es el framework de procesamiento de lenguaje natural más empleado junto con **NLTK**(*Natural Language Toolkit*). En esta ocasión lo utilizaremos para hacer:\n",
    "- **tokenización** de los correos: separar las oraciones en palabras y símbolos.\n",
    "- **lematización**: obtener el lema de cada palabra, esto es, la palabra representativa de todas las formas flexionadas de una palabra.\n",
    "- **etiquetado gramatical**: asignar a cada una de las palabras de un texto su categoría gramatical\n",
    "- **reconocimiento del tipo de entidad**: asignar a que se corresponde cada sustantivo de la oración.\n",
    "\n",
    "Haremos uso por otro lado de las **expresiones regulares** (librería **re**) para hacer ciertas búsquedas de secuencias de caracteres en los correos, así como sustituciones. "
   ]
  },
  {
   "cell_type": "code",
   "execution_count": 9,
   "metadata": {},
   "outputs": [],
   "source": [
    "tokenizer=spacy.load('en_core_web_sm')\n"
   ]
  },
  {
   "cell_type": "markdown",
   "metadata": {},
   "source": [
    "A continuación creamos la función que se encarga de procesar el **contenido** de cada correo electrónico de la base de datos. El objetivo es hacer una normalización y limpieza de lo mismos, para no encontrarnos más adelante con demasiadas columnas en el *dataframe*.\n",
    "\n",
    "1. Comenzamos haciendo un *strip* del contenido.\n",
    "2. A través de la librería **urlextract** buscamos todas aquellas direcciones y las sustituimos por **'url_link'**.\n",
    "3. Generamos una expresión regular para encontrar cualquier dirección de correo electronico, de entre todos los formatos admitidos, y las sustituimos por **'mail_dir'**.\n",
    "4. Tokenizamos el contenido del mensaje y, de todos los sustantivos, sustituimos los que presenten las siguientes etiquetas:\n",
    "    - ORG: organizaciones\n",
    "    - GPE: situaciones geográficas\n",
    "    - PERSON: personas\n",
    "    \n",
    "5. 6. 7. 8. y 9. Sustituimo cada una de las expresiones que se repitan más de dos veces, por la misma expresión repetida dos veces.\n"
   ]
  },
  {
   "cell_type": "code",
   "execution_count": 10,
   "metadata": {},
   "outputs": [],
   "source": [
    "def preprocess_mails(mail_content):\n",
    "    #1.- Strip\n",
    "    mail_copy_content=mail_content.strip()\n",
    "    \n",
    "    #2.-URLS\n",
    "    extractor=urlextract.URLExtract()\n",
    "    urls=extractor.find_urls(mail_copy_content)\n",
    "    for url in urls:\n",
    "        mail_copy_content=mail_copy_content.replace(url, 'url_link')\n",
    "   \n",
    "    #3.-CORREOS\n",
    "    mail_copy_content=re.sub('\\w+(\\.\\w+|-\\w+)*@\\w+\\.\\w+(\\.\\w+)*', 'mail_dir',mail_copy_content, flags=re.IGNORECASE)\n",
    "\n",
    "    #4.- person, org , gpe\n",
    "    tokens=tokenizer(mail_copy_content)\n",
    "    for ent in tokens.ents:\n",
    "        if (ent.label_ in ['GPE','ORG', 'PERSON']) and (str(ent)!='url_link') and (str(ent)!='>'):\n",
    "            mail_copy_content=mail_copy_content.replace(str(ent), ent.label_)\n",
    "   \n",
    "    #5 '  '\n",
    "    mail_copy_content=re.sub(' ( )+', '  ', mail_copy_content, flags=re.IGNORECASE)\n",
    "\n",
    "    #6 '\\n\\n'\n",
    "    mail_copy_content=re.sub('\\n(\\n)+', '\\n\\n', mail_copy_content, flags=re.IGNORECASE)\n",
    "   \n",
    "    7# '=='\n",
    "    mail_copy_content=re.sub('=(=)+', '==', mail_copy_content, flags=re.IGNORECASE)\n",
    "\n",
    "    #8 '\\xa0\\xa0'\n",
    "    mail_copy_content=re.sub('\\xa0(\\xa0)+', '\\xa0\\xa0', mail_copy_content, flags=re.IGNORECASE)\n",
    " \n",
    "    #9 '--'\n",
    "    mail_copy_content=re.sub('-(-)+', '--', mail_copy_content, flags=re.IGNORECASE)\n",
    "    \n",
    "    return mail_copy_content"
   ]
  },
  {
   "cell_type": "markdown",
   "metadata": {},
   "source": [
    "A continuación definimos la función que se encarga de obtener la matriz dispersa del contenido de cada mensaje.\n",
    "\n",
    "Para ello tenemos que diferenciar en primer lugar el tipo de mensaje que es, ya que no todos presentan la misma estructura. En caso de tratarse de un correo *multipart* habrá que ir recorriendo los diferentes subapartados.\n",
    "\n",
    "Mediante la librería **BeautifulSoup** hacemos un parseo de aquellos mensajes que presenten estructuras en formato html, para deshacernos de sus respectivas etiquetas, ya que no las queremos. Del resultado de esta operación realizamos el preprocesamiento y posteriormente la tokenización.\n",
    "\n",
    "Para cada **token** (si viene recogido en el modelo previamente cargado), añadimos su lema o su etiquetado en la lista **doc**.\n",
    "\n",
    "La lista **docs** contiene el cada una de las listas **doc** correspondiente a cada mensaje. Esta lista la utilizamos en la función **csr_matrix** de la librería **Scipy** para generar finalmente la matriz dispera. "
   ]
  },
  {
   "cell_type": "code",
   "execution_count": 52,
   "metadata": {},
   "outputs": [],
   "source": [
    "def get_content_sparse_matrix(X):\n",
    "    multipart_array=['multipart/signed', 'multipart/alternative','multipart/mixed', 'multipart/related', 'multipart/report']\n",
    "    docs=[]\n",
    "    begins=time.time()\n",
    "    for email in X:\n",
    "        doc=[]\n",
    "        try:\n",
    "            if email.get_content_type() in multipart_array:\n",
    "                for part in email.walk():\n",
    "                    if isinstance(part, str):\n",
    "                        tokens=tokenizer(preprocess_mails(BeautifulSoup(part.get_payload(), 'html.parser').get_text()))\n",
    "                        for token in tokens:\n",
    "                            if not token.is_stop:\n",
    "                                if token.pos_!='PROPN':\n",
    "                                    doc.append(token.lemma_)\n",
    "                        for ent in tokens.ents:\n",
    "                            if ent.label_ in ['GPE','ORG', 'PERSON']:\n",
    "                                doc.append(ent.label_)\n",
    "                docs.append(doc)\n",
    "                            \n",
    "                   \n",
    "            else:\n",
    "                tokens=tokenizer(preprocess_mails(BeautifulSoup(email.get_payload(), 'html.parser').get_text()))\n",
    "                for token in tokens:\n",
    "                    if not token.is_stop:\n",
    "                        if token.pos_!='PROPN':\n",
    "                            doc.append(token.lemma_)\n",
    "                for ent in tokens.ents:\n",
    "                    if ent.label_ in ['GPE','ORG', 'PERSON']:\n",
    "                        doc.append(ent.label_)\n",
    "                docs.append(doc)\n",
    "\n",
    "\n",
    "        except KeyError:\n",
    "            pass\n",
    "        except LookupError:\n",
    "            pass\n",
    "        except TypeError:\n",
    "            pass\n",
    "    \n",
    "    indptr = [0]\n",
    "    indices = []\n",
    "    data = []\n",
    "    vocabulary = {}\n",
    "    for d in docs:\n",
    "        for term in d:\n",
    "            index = vocabulary.setdefault(term, len(vocabulary))\n",
    "            indices.append(index)\n",
    "            data.append(1)\n",
    "        indptr.append(len(indices))\n",
    "    print(f'Elapsed time: {int(time.time()-begins)} seconds')\n",
    "    return (csr_matrix((data, indices, indptr), dtype=int).toarray(), [key for key in vocabulary.keys()], docs)\n",
    "                                         \n",
    "                                         \n",
    "    "
   ]
  },
  {
   "cell_type": "code",
   "execution_count": 12,
   "metadata": {},
   "outputs": [
    {
     "name": "stderr",
     "output_type": "stream",
     "text": [
      "/home/ignacio/MLbook/env_ml/lib/python3.6/site-packages/bs4/__init__.py:389: UserWarning: \"http://www.post-gazette.com/columnists/20020905brian5.asp\n",
      "\n",
      "\n",
      "\n",
      "\" looks like a URL. Beautiful Soup is not an HTTP client. You should probably use an HTTP client like requests to get the document behind the URL, and feed that document to Beautiful Soup.\n",
      "  ' that document to Beautiful Soup.' % decoded_markup\n"
     ]
    },
    {
     "name": "stdout",
     "output_type": "stream",
     "text": [
      "Elapsed time: 230 seconds\n"
     ]
    }
   ],
   "source": [
    "content_sparse_matrix, content_columns, docs=get_content_sparse_matrix(X_train)"
   ]
  },
  {
   "cell_type": "markdown",
   "metadata": {},
   "source": [
    "Generamos el **dataframe** correspondiente a la matriz previamente obtenida."
   ]
  },
  {
   "cell_type": "code",
   "execution_count": 13,
   "metadata": {},
   "outputs": [],
   "source": [
    "content_df=pd.DataFrame(content_sparse_matrix, columns=content_columns)"
   ]
  },
  {
   "cell_type": "code",
   "execution_count": 14,
   "metadata": {},
   "outputs": [
    {
     "data": {
      "text/html": [
       "<div>\n",
       "<style scoped>\n",
       "    .dataframe tbody tr th:only-of-type {\n",
       "        vertical-align: middle;\n",
       "    }\n",
       "\n",
       "    .dataframe tbody tr th {\n",
       "        vertical-align: top;\n",
       "    }\n",
       "\n",
       "    .dataframe thead th {\n",
       "        text-align: right;\n",
       "    }\n",
       "</style>\n",
       "<table border=\"1\" class=\"dataframe\">\n",
       "  <thead>\n",
       "    <tr style=\"text-align: right;\">\n",
       "      <th></th>\n",
       "      <th>\\n</th>\n",
       "      <th>\\n\\n</th>\n",
       "      <th>lowest</th>\n",
       "      <th>rate</th>\n",
       "      <th>45</th>\n",
       "      <th>year</th>\n",
       "      <th>-</th>\n",
       "      <th>fill</th>\n",
       "      <th>short</th>\n",
       "      <th>application</th>\n",
       "      <th>...</th>\n",
       "      <th>submarine</th>\n",
       "      <th>inertial</th>\n",
       "      <th>submerge</th>\n",
       "      <th>seismic</th>\n",
       "      <th>marine</th>\n",
       "      <th>magnetometer</th>\n",
       "      <th>declassify</th>\n",
       "      <th>hazily</th>\n",
       "      <th>geophysicist</th>\n",
       "      <th>quake</th>\n",
       "    </tr>\n",
       "  </thead>\n",
       "  <tbody>\n",
       "    <tr>\n",
       "      <th>0</th>\n",
       "      <td>20</td>\n",
       "      <td>11</td>\n",
       "      <td>1</td>\n",
       "      <td>1</td>\n",
       "      <td>1</td>\n",
       "      <td>1</td>\n",
       "      <td>5</td>\n",
       "      <td>1</td>\n",
       "      <td>3</td>\n",
       "      <td>3</td>\n",
       "      <td>...</td>\n",
       "      <td>0</td>\n",
       "      <td>0</td>\n",
       "      <td>0</td>\n",
       "      <td>0</td>\n",
       "      <td>0</td>\n",
       "      <td>0</td>\n",
       "      <td>0</td>\n",
       "      <td>0</td>\n",
       "      <td>0</td>\n",
       "      <td>0</td>\n",
       "    </tr>\n",
       "    <tr>\n",
       "      <th>1</th>\n",
       "      <td>2</td>\n",
       "      <td>2</td>\n",
       "      <td>0</td>\n",
       "      <td>0</td>\n",
       "      <td>0</td>\n",
       "      <td>0</td>\n",
       "      <td>0</td>\n",
       "      <td>0</td>\n",
       "      <td>0</td>\n",
       "      <td>0</td>\n",
       "      <td>...</td>\n",
       "      <td>0</td>\n",
       "      <td>0</td>\n",
       "      <td>0</td>\n",
       "      <td>0</td>\n",
       "      <td>0</td>\n",
       "      <td>0</td>\n",
       "      <td>0</td>\n",
       "      <td>0</td>\n",
       "      <td>0</td>\n",
       "      <td>0</td>\n",
       "    </tr>\n",
       "    <tr>\n",
       "      <th>2</th>\n",
       "      <td>60</td>\n",
       "      <td>7</td>\n",
       "      <td>0</td>\n",
       "      <td>0</td>\n",
       "      <td>0</td>\n",
       "      <td>0</td>\n",
       "      <td>14</td>\n",
       "      <td>0</td>\n",
       "      <td>0</td>\n",
       "      <td>0</td>\n",
       "      <td>...</td>\n",
       "      <td>0</td>\n",
       "      <td>0</td>\n",
       "      <td>0</td>\n",
       "      <td>0</td>\n",
       "      <td>0</td>\n",
       "      <td>0</td>\n",
       "      <td>0</td>\n",
       "      <td>0</td>\n",
       "      <td>0</td>\n",
       "      <td>0</td>\n",
       "    </tr>\n",
       "    <tr>\n",
       "      <th>3</th>\n",
       "      <td>3</td>\n",
       "      <td>1</td>\n",
       "      <td>0</td>\n",
       "      <td>0</td>\n",
       "      <td>0</td>\n",
       "      <td>0</td>\n",
       "      <td>3</td>\n",
       "      <td>0</td>\n",
       "      <td>0</td>\n",
       "      <td>0</td>\n",
       "      <td>...</td>\n",
       "      <td>0</td>\n",
       "      <td>0</td>\n",
       "      <td>0</td>\n",
       "      <td>0</td>\n",
       "      <td>0</td>\n",
       "      <td>0</td>\n",
       "      <td>0</td>\n",
       "      <td>0</td>\n",
       "      <td>0</td>\n",
       "      <td>0</td>\n",
       "    </tr>\n",
       "    <tr>\n",
       "      <th>4</th>\n",
       "      <td>31</td>\n",
       "      <td>6</td>\n",
       "      <td>0</td>\n",
       "      <td>0</td>\n",
       "      <td>0</td>\n",
       "      <td>0</td>\n",
       "      <td>4</td>\n",
       "      <td>0</td>\n",
       "      <td>0</td>\n",
       "      <td>0</td>\n",
       "      <td>...</td>\n",
       "      <td>0</td>\n",
       "      <td>0</td>\n",
       "      <td>0</td>\n",
       "      <td>0</td>\n",
       "      <td>0</td>\n",
       "      <td>0</td>\n",
       "      <td>0</td>\n",
       "      <td>0</td>\n",
       "      <td>0</td>\n",
       "      <td>0</td>\n",
       "    </tr>\n",
       "  </tbody>\n",
       "</table>\n",
       "<p>5 rows × 20078 columns</p>\n",
       "</div>"
      ],
      "text/plain": [
       "   \\n  \\n\\n  lowest  rate  45  year   -  fill  short  application  ...  \\\n",
       "0  20    11       1     1   1     1   5     1      3            3  ...   \n",
       "1   2     2       0     0   0     0   0     0      0            0  ...   \n",
       "2  60     7       0     0   0     0  14     0      0            0  ...   \n",
       "3   3     1       0     0   0     0   3     0      0            0  ...   \n",
       "4  31     6       0     0   0     0   4     0      0            0  ...   \n",
       "\n",
       "   submarine  inertial  submerge  seismic  marine  magnetometer  declassify  \\\n",
       "0          0         0         0        0       0             0           0   \n",
       "1          0         0         0        0       0             0           0   \n",
       "2          0         0         0        0       0             0           0   \n",
       "3          0         0         0        0       0             0           0   \n",
       "4          0         0         0        0       0             0           0   \n",
       "\n",
       "   hazily  geophysicist  quake  \n",
       "0       0             0      0  \n",
       "1       0             0      0  \n",
       "2       0             0      0  \n",
       "3       0             0      0  \n",
       "4       0             0      0  \n",
       "\n",
       "[5 rows x 20078 columns]"
      ]
     },
     "execution_count": 14,
     "metadata": {},
     "output_type": "execute_result"
    }
   ],
   "source": [
    "content_df.head()"
   ]
  },
  {
   "cell_type": "markdown",
   "metadata": {},
   "source": [
    "Hacemos de nuevo la función para obtener la matriz dispersa, pero esta vez para el asunto del mensaje y generamos su correspondiente *dataframe*:"
   ]
  },
  {
   "cell_type": "code",
   "execution_count": 15,
   "metadata": {},
   "outputs": [],
   "source": [
    "def get_subject_sparse_matrix(X):\n",
    "    docs=[]\n",
    "    begins=time.time()\n",
    "    for email in X:\n",
    "        doc=[]\n",
    "        try:\n",
    "            tokens=tokenizer(preprocess_mails(BeautifulSoup(email['subject'], 'html.parser').get_text()))\n",
    "            for token in tokens:\n",
    "                if not token.is_stop:\n",
    "                    if token.pos_!='PROPN':\n",
    "                        doc.append(token.lemma_)\n",
    "            for ent in tokens.ents:\n",
    "                if ent.label_ in ['GPE','ORG', 'PERSON']:\n",
    "                    doc.append(ent.label_)\n",
    "            docs.append(doc)\n",
    "            \n",
    "        except KeyError:\n",
    "            pass\n",
    "        except LookupError:\n",
    "            pass\n",
    "        except TypeError:\n",
    "            pass\n",
    "    \n",
    "    indptr = [0]\n",
    "    indices = []\n",
    "    data = []\n",
    "    vocabulary = {}\n",
    "    for d in docs:\n",
    "        for term in d:\n",
    "            index = vocabulary.setdefault(term, len(vocabulary))\n",
    "            indices.append(index)\n",
    "            data.append(1)\n",
    "        indptr.append(len(indices))\n",
    "    print(f'Elapsed time: {int(time.time()-begins)} seconds')\n",
    "    return (csr_matrix((data, indices, indptr), dtype=int).toarray(), [key for key in vocabulary.keys()], docs)\n",
    "                                         \n",
    "                                         "
   ]
  },
  {
   "cell_type": "code",
   "execution_count": 16,
   "metadata": {},
   "outputs": [
    {
     "name": "stderr",
     "output_type": "stream",
     "text": [
      "/home/ignacio/MLbook/env_ml/lib/python3.6/site-packages/bs4/__init__.py:389: UserWarning: \"http://apt.nixia.no/\" looks like a URL. Beautiful Soup is not an HTTP client. You should probably use an HTTP client like requests to get the document behind the URL, and feed that document to Beautiful Soup.\n",
      "  ' that document to Beautiful Soup.' % decoded_markup\n",
      "/home/ignacio/MLbook/env_ml/lib/python3.6/site-packages/bs4/__init__.py:389: UserWarning: \"http://www.efi.ie/\" looks like a URL. Beautiful Soup is not an HTTP client. You should probably use an HTTP client like requests to get the document behind the URL, and feed that document to Beautiful Soup.\n",
      "  ' that document to Beautiful Soup.' % decoded_markup\n"
     ]
    },
    {
     "name": "stdout",
     "output_type": "stream",
     "text": [
      "Elapsed time: 80 seconds\n"
     ]
    }
   ],
   "source": [
    "subject_sparse_matrix, subject_columns, docs=get_subject_sparse_matrix(X_train)"
   ]
  },
  {
   "cell_type": "code",
   "execution_count": 17,
   "metadata": {},
   "outputs": [],
   "source": [
    "subject_columns=list(map(lambda x: x+'_subj' , subject_columns))\n"
   ]
  },
  {
   "cell_type": "code",
   "execution_count": 18,
   "metadata": {},
   "outputs": [],
   "source": [
    "subject_df=pd.DataFrame(subject_sparse_matrix, columns=subject_columns)"
   ]
  },
  {
   "cell_type": "code",
   "execution_count": 19,
   "metadata": {},
   "outputs": [
    {
     "data": {
      "text/html": [
       "<div>\n",
       "<style scoped>\n",
       "    .dataframe tbody tr th:only-of-type {\n",
       "        vertical-align: middle;\n",
       "    }\n",
       "\n",
       "    .dataframe tbody tr th {\n",
       "        vertical-align: top;\n",
       "    }\n",
       "\n",
       "    .dataframe thead th {\n",
       "        text-align: right;\n",
       "    }\n",
       "</style>\n",
       "<table border=\"1\" class=\"dataframe\">\n",
       "  <thead>\n",
       "    <tr style=\"text-align: right;\">\n",
       "      <th></th>\n",
       "      <th>let_subj</th>\n",
       "      <th>know_subj</th>\n",
       "      <th>think!32482_subj</th>\n",
       "      <th>[_subj</th>\n",
       "      <th>]_subj</th>\n",
       "      <th>spambaye_subj</th>\n",
       "      <th>package_subj</th>\n",
       "      <th>?_subj</th>\n",
       "      <th>:_subj</th>\n",
       "      <th>ignore_subj</th>\n",
       "      <th>...</th>\n",
       "      <th>spectacular_subj</th>\n",
       "      <th>retreat_subj</th>\n",
       "      <th>goodz_subj</th>\n",
       "      <th>8simugq_subj</th>\n",
       "      <th>handle_subj</th>\n",
       "      <th>allow_subj</th>\n",
       "      <th>arbitrary_subj</th>\n",
       "      <th>execute_subj</th>\n",
       "      <th>plate_subj</th>\n",
       "      <th>tectonic_subj</th>\n",
       "    </tr>\n",
       "  </thead>\n",
       "  <tbody>\n",
       "    <tr>\n",
       "      <th>0</th>\n",
       "      <td>1</td>\n",
       "      <td>1</td>\n",
       "      <td>1</td>\n",
       "      <td>0</td>\n",
       "      <td>0</td>\n",
       "      <td>0</td>\n",
       "      <td>0</td>\n",
       "      <td>0</td>\n",
       "      <td>0</td>\n",
       "      <td>0</td>\n",
       "      <td>...</td>\n",
       "      <td>0</td>\n",
       "      <td>0</td>\n",
       "      <td>0</td>\n",
       "      <td>0</td>\n",
       "      <td>0</td>\n",
       "      <td>0</td>\n",
       "      <td>0</td>\n",
       "      <td>0</td>\n",
       "      <td>0</td>\n",
       "      <td>0</td>\n",
       "    </tr>\n",
       "    <tr>\n",
       "      <th>1</th>\n",
       "      <td>0</td>\n",
       "      <td>0</td>\n",
       "      <td>0</td>\n",
       "      <td>1</td>\n",
       "      <td>1</td>\n",
       "      <td>1</td>\n",
       "      <td>1</td>\n",
       "      <td>1</td>\n",
       "      <td>0</td>\n",
       "      <td>0</td>\n",
       "      <td>...</td>\n",
       "      <td>0</td>\n",
       "      <td>0</td>\n",
       "      <td>0</td>\n",
       "      <td>0</td>\n",
       "      <td>0</td>\n",
       "      <td>0</td>\n",
       "      <td>0</td>\n",
       "      <td>0</td>\n",
       "      <td>0</td>\n",
       "      <td>0</td>\n",
       "    </tr>\n",
       "    <tr>\n",
       "      <th>2</th>\n",
       "      <td>0</td>\n",
       "      <td>0</td>\n",
       "      <td>0</td>\n",
       "      <td>1</td>\n",
       "      <td>1</td>\n",
       "      <td>0</td>\n",
       "      <td>0</td>\n",
       "      <td>0</td>\n",
       "      <td>1</td>\n",
       "      <td>1</td>\n",
       "      <td>...</td>\n",
       "      <td>0</td>\n",
       "      <td>0</td>\n",
       "      <td>0</td>\n",
       "      <td>0</td>\n",
       "      <td>0</td>\n",
       "      <td>0</td>\n",
       "      <td>0</td>\n",
       "      <td>0</td>\n",
       "      <td>0</td>\n",
       "      <td>0</td>\n",
       "    </tr>\n",
       "    <tr>\n",
       "      <th>3</th>\n",
       "      <td>0</td>\n",
       "      <td>0</td>\n",
       "      <td>0</td>\n",
       "      <td>0</td>\n",
       "      <td>0</td>\n",
       "      <td>0</td>\n",
       "      <td>0</td>\n",
       "      <td>0</td>\n",
       "      <td>0</td>\n",
       "      <td>0</td>\n",
       "      <td>...</td>\n",
       "      <td>0</td>\n",
       "      <td>0</td>\n",
       "      <td>0</td>\n",
       "      <td>0</td>\n",
       "      <td>0</td>\n",
       "      <td>0</td>\n",
       "      <td>0</td>\n",
       "      <td>0</td>\n",
       "      <td>0</td>\n",
       "      <td>0</td>\n",
       "    </tr>\n",
       "    <tr>\n",
       "      <th>4</th>\n",
       "      <td>0</td>\n",
       "      <td>0</td>\n",
       "      <td>0</td>\n",
       "      <td>0</td>\n",
       "      <td>0</td>\n",
       "      <td>0</td>\n",
       "      <td>0</td>\n",
       "      <td>0</td>\n",
       "      <td>1</td>\n",
       "      <td>0</td>\n",
       "      <td>...</td>\n",
       "      <td>0</td>\n",
       "      <td>0</td>\n",
       "      <td>0</td>\n",
       "      <td>0</td>\n",
       "      <td>0</td>\n",
       "      <td>0</td>\n",
       "      <td>0</td>\n",
       "      <td>0</td>\n",
       "      <td>0</td>\n",
       "      <td>0</td>\n",
       "    </tr>\n",
       "  </tbody>\n",
       "</table>\n",
       "<p>5 rows × 2219 columns</p>\n",
       "</div>"
      ],
      "text/plain": [
       "   let_subj  know_subj  think!32482_subj  [_subj  ]_subj  spambaye_subj  \\\n",
       "0         1          1                 1       0       0              0   \n",
       "1         0          0                 0       1       1              1   \n",
       "2         0          0                 0       1       1              0   \n",
       "3         0          0                 0       0       0              0   \n",
       "4         0          0                 0       0       0              0   \n",
       "\n",
       "   package_subj  ?_subj  :_subj  ignore_subj  ...  spectacular_subj  \\\n",
       "0             0       0       0            0  ...                 0   \n",
       "1             1       1       0            0  ...                 0   \n",
       "2             0       0       1            1  ...                 0   \n",
       "3             0       0       0            0  ...                 0   \n",
       "4             0       0       1            0  ...                 0   \n",
       "\n",
       "   retreat_subj  goodz_subj  8simugq_subj  handle_subj  allow_subj  \\\n",
       "0             0           0             0            0           0   \n",
       "1             0           0             0            0           0   \n",
       "2             0           0             0            0           0   \n",
       "3             0           0             0            0           0   \n",
       "4             0           0             0            0           0   \n",
       "\n",
       "   arbitrary_subj  execute_subj  plate_subj  tectonic_subj  \n",
       "0               0             0           0              0  \n",
       "1               0             0           0              0  \n",
       "2               0             0           0              0  \n",
       "3               0             0           0              0  \n",
       "4               0             0           0              0  \n",
       "\n",
       "[5 rows x 2219 columns]"
      ]
     },
     "execution_count": 19,
     "metadata": {},
     "output_type": "execute_result"
    }
   ],
   "source": [
    "subject_df.head()"
   ]
  },
  {
   "cell_type": "markdown",
   "metadata": {},
   "source": [
    "Vamos a estudiar la distribución de la variable **'tipo de mensaje'** a ver si sacamos algún valor de la ella:"
   ]
  },
  {
   "cell_type": "code",
   "execution_count": 20,
   "metadata": {},
   "outputs": [],
   "source": [
    "def get_content_type_array(X):\n",
    "    content_types=[]\n",
    "    for email in X:\n",
    "        content_types.append(email.get_content_type())\n",
    "    return content_types\n"
   ]
  },
  {
   "cell_type": "code",
   "execution_count": 21,
   "metadata": {},
   "outputs": [],
   "source": [
    "content_type_array=get_content_type_array(X_train)\n",
    "X_train_w_ct=pd.DataFrame(np.c_[np.array(content_type_array), y_train.astype(np.int8)], columns=['content_type', 'target'])"
   ]
  },
  {
   "cell_type": "code",
   "execution_count": 22,
   "metadata": {},
   "outputs": [
    {
     "name": "stdout",
     "output_type": "stream",
     "text": [
      "text/plain               2138\n",
      "text/html                 146\n",
      "multipart/signed           65\n",
      "multipart/alternative      44\n",
      "multipart/mixed            40\n",
      "multipart/related           6\n",
      "multipart/report            2\n",
      "Name: content_type, dtype: int64\n"
     ]
    },
    {
     "data": {
      "image/png": "[encoded data removed]",
      "text/plain": [
       "<Figure size 1008x432 with 1 Axes>"
      ]
     },
     "metadata": {
      "needs_background": "light"
     },
     "output_type": "display_data"
    }
   ],
   "source": [
    "print(X_train_w_ct['content_type'].value_counts())\n",
    "figure =plt.figure(figsize=(14,6))\n",
    "g1=sns.countplot(x='content_type', hue='target',data=X_train_w_ct)\n",
    "g1.legend([ 'ham','spam'], loc='upper right');\n",
    "g1.set_xlabel('');"
   ]
  },
  {
   "cell_type": "markdown",
   "metadata": {},
   "source": [
    "Vemos que efectivamente, esta variable puede sernos de gran ayudar para la tarea de clasificación, entonces la añadimos al *dataframe* final de los datos de entrenamiento."
   ]
  },
  {
   "cell_type": "code",
   "execution_count": 23,
   "metadata": {},
   "outputs": [],
   "source": [
    "content_type_df=pd.get_dummies(content_type_array, drop_first=True)"
   ]
  },
  {
   "cell_type": "code",
   "execution_count": 24,
   "metadata": {},
   "outputs": [],
   "source": [
    "X_train_pd=pd.concat([content_df, subject_df,content_type_df], axis=1)\n",
    "y_train_pd=pd.Series(y_train, name='target')"
   ]
  },
  {
   "cell_type": "code",
   "execution_count": 25,
   "metadata": {},
   "outputs": [
    {
     "data": {
      "text/html": [
       "<div>\n",
       "<style scoped>\n",
       "    .dataframe tbody tr th:only-of-type {\n",
       "        vertical-align: middle;\n",
       "    }\n",
       "\n",
       "    .dataframe tbody tr th {\n",
       "        vertical-align: top;\n",
       "    }\n",
       "\n",
       "    .dataframe thead th {\n",
       "        text-align: right;\n",
       "    }\n",
       "</style>\n",
       "<table border=\"1\" class=\"dataframe\">\n",
       "  <thead>\n",
       "    <tr style=\"text-align: right;\">\n",
       "      <th></th>\n",
       "      <th>\\n</th>\n",
       "      <th>\\n\\n</th>\n",
       "      <th>lowest</th>\n",
       "      <th>rate</th>\n",
       "      <th>45</th>\n",
       "      <th>year</th>\n",
       "      <th>-</th>\n",
       "      <th>fill</th>\n",
       "      <th>short</th>\n",
       "      <th>application</th>\n",
       "      <th>...</th>\n",
       "      <th>arbitrary_subj</th>\n",
       "      <th>execute_subj</th>\n",
       "      <th>plate_subj</th>\n",
       "      <th>tectonic_subj</th>\n",
       "      <th>multipart/mixed</th>\n",
       "      <th>multipart/related</th>\n",
       "      <th>multipart/report</th>\n",
       "      <th>multipart/signed</th>\n",
       "      <th>text/html</th>\n",
       "      <th>text/plain</th>\n",
       "    </tr>\n",
       "  </thead>\n",
       "  <tbody>\n",
       "    <tr>\n",
       "      <th>0</th>\n",
       "      <td>20</td>\n",
       "      <td>11</td>\n",
       "      <td>1</td>\n",
       "      <td>1</td>\n",
       "      <td>1</td>\n",
       "      <td>1</td>\n",
       "      <td>5</td>\n",
       "      <td>1</td>\n",
       "      <td>3</td>\n",
       "      <td>3</td>\n",
       "      <td>...</td>\n",
       "      <td>0</td>\n",
       "      <td>0</td>\n",
       "      <td>0</td>\n",
       "      <td>0</td>\n",
       "      <td>0</td>\n",
       "      <td>0</td>\n",
       "      <td>0</td>\n",
       "      <td>0</td>\n",
       "      <td>1</td>\n",
       "      <td>0</td>\n",
       "    </tr>\n",
       "    <tr>\n",
       "      <th>1</th>\n",
       "      <td>2</td>\n",
       "      <td>2</td>\n",
       "      <td>0</td>\n",
       "      <td>0</td>\n",
       "      <td>0</td>\n",
       "      <td>0</td>\n",
       "      <td>0</td>\n",
       "      <td>0</td>\n",
       "      <td>0</td>\n",
       "      <td>0</td>\n",
       "      <td>...</td>\n",
       "      <td>0</td>\n",
       "      <td>0</td>\n",
       "      <td>0</td>\n",
       "      <td>0</td>\n",
       "      <td>0</td>\n",
       "      <td>0</td>\n",
       "      <td>0</td>\n",
       "      <td>0</td>\n",
       "      <td>0</td>\n",
       "      <td>1</td>\n",
       "    </tr>\n",
       "    <tr>\n",
       "      <th>2</th>\n",
       "      <td>60</td>\n",
       "      <td>7</td>\n",
       "      <td>0</td>\n",
       "      <td>0</td>\n",
       "      <td>0</td>\n",
       "      <td>0</td>\n",
       "      <td>14</td>\n",
       "      <td>0</td>\n",
       "      <td>0</td>\n",
       "      <td>0</td>\n",
       "      <td>...</td>\n",
       "      <td>0</td>\n",
       "      <td>0</td>\n",
       "      <td>0</td>\n",
       "      <td>0</td>\n",
       "      <td>0</td>\n",
       "      <td>0</td>\n",
       "      <td>0</td>\n",
       "      <td>0</td>\n",
       "      <td>0</td>\n",
       "      <td>1</td>\n",
       "    </tr>\n",
       "    <tr>\n",
       "      <th>3</th>\n",
       "      <td>3</td>\n",
       "      <td>1</td>\n",
       "      <td>0</td>\n",
       "      <td>0</td>\n",
       "      <td>0</td>\n",
       "      <td>0</td>\n",
       "      <td>3</td>\n",
       "      <td>0</td>\n",
       "      <td>0</td>\n",
       "      <td>0</td>\n",
       "      <td>...</td>\n",
       "      <td>0</td>\n",
       "      <td>0</td>\n",
       "      <td>0</td>\n",
       "      <td>0</td>\n",
       "      <td>0</td>\n",
       "      <td>0</td>\n",
       "      <td>0</td>\n",
       "      <td>0</td>\n",
       "      <td>0</td>\n",
       "      <td>1</td>\n",
       "    </tr>\n",
       "    <tr>\n",
       "      <th>4</th>\n",
       "      <td>31</td>\n",
       "      <td>6</td>\n",
       "      <td>0</td>\n",
       "      <td>0</td>\n",
       "      <td>0</td>\n",
       "      <td>0</td>\n",
       "      <td>4</td>\n",
       "      <td>0</td>\n",
       "      <td>0</td>\n",
       "      <td>0</td>\n",
       "      <td>...</td>\n",
       "      <td>0</td>\n",
       "      <td>0</td>\n",
       "      <td>0</td>\n",
       "      <td>0</td>\n",
       "      <td>0</td>\n",
       "      <td>0</td>\n",
       "      <td>0</td>\n",
       "      <td>0</td>\n",
       "      <td>0</td>\n",
       "      <td>1</td>\n",
       "    </tr>\n",
       "  </tbody>\n",
       "</table>\n",
       "<p>5 rows × 22303 columns</p>\n",
       "</div>"
      ],
      "text/plain": [
       "   \\n  \\n\\n  lowest  rate  45  year   -  fill  short  application  ...  \\\n",
       "0  20    11       1     1   1     1   5     1      3            3  ...   \n",
       "1   2     2       0     0   0     0   0     0      0            0  ...   \n",
       "2  60     7       0     0   0     0  14     0      0            0  ...   \n",
       "3   3     1       0     0   0     0   3     0      0            0  ...   \n",
       "4  31     6       0     0   0     0   4     0      0            0  ...   \n",
       "\n",
       "   arbitrary_subj  execute_subj  plate_subj  tectonic_subj  multipart/mixed  \\\n",
       "0               0             0           0              0                0   \n",
       "1               0             0           0              0                0   \n",
       "2               0             0           0              0                0   \n",
       "3               0             0           0              0                0   \n",
       "4               0             0           0              0                0   \n",
       "\n",
       "   multipart/related  multipart/report  multipart/signed  text/html  \\\n",
       "0                  0                 0                 0          1   \n",
       "1                  0                 0                 0          0   \n",
       "2                  0                 0                 0          0   \n",
       "3                  0                 0                 0          0   \n",
       "4                  0                 0                 0          0   \n",
       "\n",
       "   text/plain  \n",
       "0           0  \n",
       "1           1  \n",
       "2           1  \n",
       "3           1  \n",
       "4           1  \n",
       "\n",
       "[5 rows x 22303 columns]"
      ]
     },
     "execution_count": 25,
     "metadata": {},
     "output_type": "execute_result"
    }
   ],
   "source": [
    "X_train_pd.head()"
   ]
  },
  {
   "cell_type": "markdown",
   "metadata": {},
   "source": [
    "Ha llegado el momento de generar nuestro modelo clasificador. Usaremos una regresión logística, la cual vamos a ajustar a traves de una malla de validación cruzada randomizada.\n",
    "\n",
    "Posteriormente estudiamos los resultados y vemos como han ido las cosas:"
   ]
  },
  {
   "cell_type": "code",
   "execution_count": 26,
   "metadata": {},
   "outputs": [],
   "source": [
    "from sklearn.linear_model import LogisticRegression\n",
    "from sklearn.model_selection import RandomizedSearchCV\n",
    "from scipy.stats import expon"
   ]
  },
  {
   "cell_type": "code",
   "execution_count": 27,
   "metadata": {},
   "outputs": [],
   "source": [
    "log_clf = LogisticRegression(solver=\"liblinear\", random_state=42)\n",
    "param_distributions={'C': expon(scale=1), 'tol':expon(scale=1), 'max_iter':[100,150,200]}\n",
    "randomized_search=RandomizedSearchCV(log_clf, param_distributions=param_distributions, n_jobs=-1, cv=5, scoring='accuracy', n_iter=200)\n"
   ]
  },
  {
   "cell_type": "code",
   "execution_count": 28,
   "metadata": {},
   "outputs": [
    {
     "data": {
      "text/plain": [
       "RandomizedSearchCV(cv=5, error_score='raise-deprecating',\n",
       "                   estimator=LogisticRegression(C=1.0, class_weight=None,\n",
       "                                                dual=False, fit_intercept=True,\n",
       "                                                intercept_scaling=1,\n",
       "                                                l1_ratio=None, max_iter=100,\n",
       "                                                multi_class='warn', n_jobs=None,\n",
       "                                                penalty='l2', random_state=42,\n",
       "                                                solver='liblinear', tol=0.0001,\n",
       "                                                verbose=0, warm_start=False),\n",
       "                   iid='warn', n_iter=200, n_jobs=-1,\n",
       "                   param_distributions={'C': <scipy.stats._distn_infrastructure.rv_frozen object at 0x7f0c6ce246d8>,\n",
       "                                        'max_iter': [100, 150, 200],\n",
       "                                        'tol': <scipy.stats._distn_infrastructure.rv_frozen object at 0x7f0c6ce24940>},\n",
       "                   pre_dispatch='2*n_jobs', random_state=None, refit=True,\n",
       "                   return_train_score=False, scoring='accuracy', verbose=0)"
      ]
     },
     "execution_count": 28,
     "metadata": {},
     "output_type": "execute_result"
    }
   ],
   "source": [
    "randomized_search.fit(X_train_pd, y_train_pd)"
   ]
  },
  {
   "cell_type": "code",
   "execution_count": 29,
   "metadata": {},
   "outputs": [
    {
     "data": {
      "text/html": [
       "<div>\n",
       "<style scoped>\n",
       "    .dataframe tbody tr th:only-of-type {\n",
       "        vertical-align: middle;\n",
       "    }\n",
       "\n",
       "    .dataframe tbody tr th {\n",
       "        vertical-align: top;\n",
       "    }\n",
       "\n",
       "    .dataframe thead th {\n",
       "        text-align: right;\n",
       "    }\n",
       "</style>\n",
       "<table border=\"1\" class=\"dataframe\">\n",
       "  <thead>\n",
       "    <tr style=\"text-align: right;\">\n",
       "      <th></th>\n",
       "      <th>mean_fit_time</th>\n",
       "      <th>std_fit_time</th>\n",
       "      <th>mean_score_time</th>\n",
       "      <th>std_score_time</th>\n",
       "      <th>param_C</th>\n",
       "      <th>param_max_iter</th>\n",
       "      <th>param_tol</th>\n",
       "      <th>params</th>\n",
       "      <th>split0_test_score</th>\n",
       "      <th>split1_test_score</th>\n",
       "      <th>split2_test_score</th>\n",
       "      <th>split3_test_score</th>\n",
       "      <th>split4_test_score</th>\n",
       "      <th>mean_test_score</th>\n",
       "      <th>std_test_score</th>\n",
       "      <th>rank_test_score</th>\n",
       "    </tr>\n",
       "  </thead>\n",
       "  <tbody>\n",
       "    <tr>\n",
       "      <th>0</th>\n",
       "      <td>2.417453</td>\n",
       "      <td>0.034021</td>\n",
       "      <td>0.091958</td>\n",
       "      <td>0.012679</td>\n",
       "      <td>0.00340559</td>\n",
       "      <td>100</td>\n",
       "      <td>0.427638</td>\n",
       "      <td>{'C': 0.003405585290268786, 'max_iter': 100, '...</td>\n",
       "      <td>0.910020</td>\n",
       "      <td>0.920245</td>\n",
       "      <td>0.932377</td>\n",
       "      <td>0.936475</td>\n",
       "      <td>0.924025</td>\n",
       "      <td>0.924621</td>\n",
       "      <td>0.009313</td>\n",
       "      <td>111</td>\n",
       "    </tr>\n",
       "    <tr>\n",
       "      <th>1</th>\n",
       "      <td>2.538855</td>\n",
       "      <td>0.155416</td>\n",
       "      <td>0.110433</td>\n",
       "      <td>0.018707</td>\n",
       "      <td>1.22058</td>\n",
       "      <td>100</td>\n",
       "      <td>0.0636025</td>\n",
       "      <td>{'C': 1.2205782413950583, 'max_iter': 100, 'to...</td>\n",
       "      <td>0.932515</td>\n",
       "      <td>0.975460</td>\n",
       "      <td>0.948770</td>\n",
       "      <td>0.969262</td>\n",
       "      <td>0.983573</td>\n",
       "      <td>0.961901</td>\n",
       "      <td>0.018677</td>\n",
       "      <td>9</td>\n",
       "    </tr>\n",
       "    <tr>\n",
       "      <th>2</th>\n",
       "      <td>2.422230</td>\n",
       "      <td>0.043419</td>\n",
       "      <td>0.099070</td>\n",
       "      <td>0.013408</td>\n",
       "      <td>0.460406</td>\n",
       "      <td>150</td>\n",
       "      <td>0.675929</td>\n",
       "      <td>{'C': 0.46040553738405554, 'max_iter': 150, 't...</td>\n",
       "      <td>0.903885</td>\n",
       "      <td>0.944785</td>\n",
       "      <td>0.928279</td>\n",
       "      <td>0.963115</td>\n",
       "      <td>0.936345</td>\n",
       "      <td>0.935272</td>\n",
       "      <td>0.019505</td>\n",
       "      <td>77</td>\n",
       "    </tr>\n",
       "    <tr>\n",
       "      <th>3</th>\n",
       "      <td>2.353385</td>\n",
       "      <td>0.042457</td>\n",
       "      <td>0.103743</td>\n",
       "      <td>0.019966</td>\n",
       "      <td>0.0224889</td>\n",
       "      <td>200</td>\n",
       "      <td>0.926026</td>\n",
       "      <td>{'C': 0.022488859587115044, 'max_iter': 200, '...</td>\n",
       "      <td>0.903885</td>\n",
       "      <td>0.918200</td>\n",
       "      <td>0.897541</td>\n",
       "      <td>0.936475</td>\n",
       "      <td>0.917864</td>\n",
       "      <td>0.914789</td>\n",
       "      <td>0.013473</td>\n",
       "      <td>122</td>\n",
       "    </tr>\n",
       "    <tr>\n",
       "      <th>4</th>\n",
       "      <td>2.346821</td>\n",
       "      <td>0.100449</td>\n",
       "      <td>0.092348</td>\n",
       "      <td>0.021111</td>\n",
       "      <td>4.48723</td>\n",
       "      <td>150</td>\n",
       "      <td>1.93366</td>\n",
       "      <td>{'C': 4.4872291164262705, 'max_iter': 150, 'to...</td>\n",
       "      <td>0.889571</td>\n",
       "      <td>0.889571</td>\n",
       "      <td>0.897541</td>\n",
       "      <td>0.932377</td>\n",
       "      <td>0.919918</td>\n",
       "      <td>0.905776</td>\n",
       "      <td>0.017325</td>\n",
       "      <td>175</td>\n",
       "    </tr>\n",
       "  </tbody>\n",
       "</table>\n",
       "</div>"
      ],
      "text/plain": [
       "   mean_fit_time  std_fit_time  mean_score_time  std_score_time     param_C  \\\n",
       "0       2.417453      0.034021         0.091958        0.012679  0.00340559   \n",
       "1       2.538855      0.155416         0.110433        0.018707     1.22058   \n",
       "2       2.422230      0.043419         0.099070        0.013408    0.460406   \n",
       "3       2.353385      0.042457         0.103743        0.019966   0.0224889   \n",
       "4       2.346821      0.100449         0.092348        0.021111     4.48723   \n",
       "\n",
       "  param_max_iter  param_tol  \\\n",
       "0            100   0.427638   \n",
       "1            100  0.0636025   \n",
       "2            150   0.675929   \n",
       "3            200   0.926026   \n",
       "4            150    1.93366   \n",
       "\n",
       "                                              params  split0_test_score  \\\n",
       "0  {'C': 0.003405585290268786, 'max_iter': 100, '...           0.910020   \n",
       "1  {'C': 1.2205782413950583, 'max_iter': 100, 'to...           0.932515   \n",
       "2  {'C': 0.46040553738405554, 'max_iter': 150, 't...           0.903885   \n",
       "3  {'C': 0.022488859587115044, 'max_iter': 200, '...           0.903885   \n",
       "4  {'C': 4.4872291164262705, 'max_iter': 150, 'to...           0.889571   \n",
       "\n",
       "   split1_test_score  split2_test_score  split3_test_score  split4_test_score  \\\n",
       "0           0.920245           0.932377           0.936475           0.924025   \n",
       "1           0.975460           0.948770           0.969262           0.983573   \n",
       "2           0.944785           0.928279           0.963115           0.936345   \n",
       "3           0.918200           0.897541           0.936475           0.917864   \n",
       "4           0.889571           0.897541           0.932377           0.919918   \n",
       "\n",
       "   mean_test_score  std_test_score  rank_test_score  \n",
       "0         0.924621        0.009313              111  \n",
       "1         0.961901        0.018677                9  \n",
       "2         0.935272        0.019505               77  \n",
       "3         0.914789        0.013473              122  \n",
       "4         0.905776        0.017325              175  "
      ]
     },
     "execution_count": 29,
     "metadata": {},
     "output_type": "execute_result"
    }
   ],
   "source": [
    "cv_results_df=pd.DataFrame(randomized_search.cv_results_)\n",
    "cv_results_df.head()"
   ]
  },
  {
   "cell_type": "code",
   "execution_count": 30,
   "metadata": {},
   "outputs": [
    {
     "data": {
      "text/html": [
       "<div>\n",
       "<style scoped>\n",
       "    .dataframe tbody tr th:only-of-type {\n",
       "        vertical-align: middle;\n",
       "    }\n",
       "\n",
       "    .dataframe tbody tr th {\n",
       "        vertical-align: top;\n",
       "    }\n",
       "\n",
       "    .dataframe thead th {\n",
       "        text-align: right;\n",
       "    }\n",
       "</style>\n",
       "<table border=\"1\" class=\"dataframe\">\n",
       "  <thead>\n",
       "    <tr style=\"text-align: right;\">\n",
       "      <th></th>\n",
       "      <th>param_C</th>\n",
       "      <th>param_max_iter</th>\n",
       "      <th>param_tol</th>\n",
       "      <th>params</th>\n",
       "      <th>mean_test_score</th>\n",
       "      <th>std_test_score</th>\n",
       "      <th>rank_test_score</th>\n",
       "    </tr>\n",
       "  </thead>\n",
       "  <tbody>\n",
       "    <tr>\n",
       "      <th>149</th>\n",
       "      <td>0.886866</td>\n",
       "      <td>100</td>\n",
       "      <td>0.0111008</td>\n",
       "      <td>{'C': 0.8868657577084735, 'max_iter': 100, 'to...</td>\n",
       "      <td>0.984433</td>\n",
       "      <td>0.004588</td>\n",
       "      <td>1</td>\n",
       "    </tr>\n",
       "    <tr>\n",
       "      <th>95</th>\n",
       "      <td>0.641906</td>\n",
       "      <td>200</td>\n",
       "      <td>0.013762</td>\n",
       "      <td>{'C': 0.6419061780025663, 'max_iter': 200, 'to...</td>\n",
       "      <td>0.981155</td>\n",
       "      <td>0.003738</td>\n",
       "      <td>2</td>\n",
       "    </tr>\n",
       "    <tr>\n",
       "      <th>51</th>\n",
       "      <td>0.734859</td>\n",
       "      <td>100</td>\n",
       "      <td>0.0229452</td>\n",
       "      <td>{'C': 0.7348588852607294, 'max_iter': 100, 'to...</td>\n",
       "      <td>0.971323</td>\n",
       "      <td>0.010575</td>\n",
       "      <td>3</td>\n",
       "    </tr>\n",
       "    <tr>\n",
       "      <th>69</th>\n",
       "      <td>1.07967</td>\n",
       "      <td>200</td>\n",
       "      <td>0.0215767</td>\n",
       "      <td>{'C': 1.0796660221649614, 'max_iter': 200, 'to...</td>\n",
       "      <td>0.970914</td>\n",
       "      <td>0.011550</td>\n",
       "      <td>4</td>\n",
       "    </tr>\n",
       "    <tr>\n",
       "      <th>102</th>\n",
       "      <td>1.0661</td>\n",
       "      <td>200</td>\n",
       "      <td>0.0308276</td>\n",
       "      <td>{'C': 1.0660996166347303, 'max_iter': 200, 'to...</td>\n",
       "      <td>0.966817</td>\n",
       "      <td>0.007976</td>\n",
       "      <td>5</td>\n",
       "    </tr>\n",
       "  </tbody>\n",
       "</table>\n",
       "</div>"
      ],
      "text/plain": [
       "      param_C param_max_iter  param_tol  \\\n",
       "149  0.886866            100  0.0111008   \n",
       "95   0.641906            200   0.013762   \n",
       "51   0.734859            100  0.0229452   \n",
       "69    1.07967            200  0.0215767   \n",
       "102    1.0661            200  0.0308276   \n",
       "\n",
       "                                                params  mean_test_score  \\\n",
       "149  {'C': 0.8868657577084735, 'max_iter': 100, 'to...         0.984433   \n",
       "95   {'C': 0.6419061780025663, 'max_iter': 200, 'to...         0.981155   \n",
       "51   {'C': 0.7348588852607294, 'max_iter': 100, 'to...         0.971323   \n",
       "69   {'C': 1.0796660221649614, 'max_iter': 200, 'to...         0.970914   \n",
       "102  {'C': 1.0660996166347303, 'max_iter': 200, 'to...         0.966817   \n",
       "\n",
       "     std_test_score  rank_test_score  \n",
       "149        0.004588                1  \n",
       "95         0.003738                2  \n",
       "51         0.010575                3  \n",
       "69         0.011550                4  \n",
       "102        0.007976                5  "
      ]
     },
     "execution_count": 30,
     "metadata": {},
     "output_type": "execute_result"
    }
   ],
   "source": [
    "col_split=re.compile('split')\n",
    "col_time=re.compile('time')\n",
    "col_to_drop=[]\n",
    "for column in cv_results_df.columns:\n",
    "    if col_split.search(column) or col_time.search(column):\n",
    "        col_to_drop.append(column)\n",
    "        \n",
    "cv_results_df.drop(columns=col_to_drop, inplace=True)\n",
    "cv_results_df.sort_values('rank_test_score').head()\n",
    "        "
   ]
  },
  {
   "cell_type": "markdown",
   "metadata": {},
   "source": [
    "Los resultados han sido francamente buenos, utilizaremos evidentemente el mejor de los estimadores obtenidos a través de la malla para generar nuestras predicciones sobre el set de testeo y hacer las consecuentes evaluaciones. Pero antes, habrá que repetir todo el procesamiento de los correos al set de testeo y, ajustar las columnas a las utilizadas durante el entrenamiento de nuestro modelo:"
   ]
  },
  {
   "cell_type": "code",
   "execution_count": 39,
   "metadata": {},
   "outputs": [],
   "source": [
    "#Correo con estructura no válida\n",
    "#X_test=np.delete(X_test, 344)\n",
    "#y_test=np.delete(y_test, 344)\n"
   ]
  },
  {
   "cell_type": "code",
   "execution_count": 41,
   "metadata": {},
   "outputs": [],
   "source": [
    "#os.system('play -nq -t alsa synth {} sine {}'.format(1, 2500))"
   ]
  },
  {
   "cell_type": "code",
   "execution_count": 42,
   "metadata": {},
   "outputs": [],
   "source": [
    "from sklearn.metrics import accuracy_score, classification_report, confusion_matrix"
   ]
  },
  {
   "cell_type": "code",
   "execution_count": 45,
   "metadata": {},
   "outputs": [
    {
     "name": "stdout",
     "output_type": "stream",
     "text": [
      "Elapsed time: 55 seconds\n",
      "Elapsed time: 20 seconds\n"
     ]
    }
   ],
   "source": [
    "content_sparse_matrix_test, content_columns_test, docs_test=get_content_sparse_matrix(X_test)\n",
    "content_df_test=pd.DataFrame(content_sparse_matrix_test, columns=content_columns_test)\n",
    "subject_sparse_matrix_test, subject_columns_test, docs_test=get_subject_sparse_matrix(X_test)\n",
    "subject_columns_test=list(map(lambda x: x+'_subj' , subject_columns_test))\n",
    "subject_df_test=pd.DataFrame(subject_sparse_matrix_test, columns=subject_columns_test)\n",
    "content_type_array_test=get_content_type_array(X_test)\n",
    "content_type_df_test=pd.get_dummies(content_type_array_test, drop_first=True)\n",
    "X_test_pd=pd.concat([content_df_test, subject_df_test,content_type_df_test], axis=1)\n",
    "y_test_pd=pd.Series(y_test, name='target')\n",
    "for col in X_train_pd:\n",
    "    if col not in X_test_pd.columns:\n",
    "        X_test_pd[col]=np.zeros(X_test_pd.shape[0], dtype=int)\n",
    "X_test_pd=X_test_pd[X_train_pd.columns]\n",
    "test_pred=randomized_search.best_estimator_.predict(X_test_pd)\n"
   ]
  },
  {
   "cell_type": "code",
   "execution_count": 46,
   "metadata": {},
   "outputs": [
    {
     "data": {
      "text/plain": [
       "0.9868852459016394"
      ]
     },
     "execution_count": 46,
     "metadata": {},
     "output_type": "execute_result"
    }
   ],
   "source": [
    "accuracy_score(y_test_pd, test_pred)"
   ]
  },
  {
   "cell_type": "code",
   "execution_count": 47,
   "metadata": {},
   "outputs": [
    {
     "name": "stdout",
     "output_type": "stream",
     "text": [
      "              precision    recall  f1-score   support\n",
      "\n",
      "           0       0.99      0.99      0.99       497\n",
      "           1       0.97      0.96      0.96       113\n",
      "\n",
      "    accuracy                           0.99       610\n",
      "   macro avg       0.98      0.97      0.98       610\n",
      "weighted avg       0.99      0.99      0.99       610\n",
      "\n"
     ]
    }
   ],
   "source": [
    "print(classification_report(y_test_pd, test_pred))"
   ]
  },
  {
   "cell_type": "code",
   "execution_count": 48,
   "metadata": {},
   "outputs": [],
   "source": [
    "cm=confusion_matrix(y_test_pd, test_pred)"
   ]
  },
  {
   "cell_type": "code",
   "execution_count": 49,
   "metadata": {},
   "outputs": [
    {
     "data": {
      "image/png": "[encoded data removed]",
      "text/plain": [
       "<Figure size 576x576 with 1 Axes>"
      ]
     },
     "metadata": {
      "needs_background": "light"
     },
     "output_type": "display_data"
    }
   ],
   "source": [
    "figure=plt.figure(figsize=(8,8))\n",
    "g1=sns.heatmap(cm, annot=True, fmt='d', cbar=False)"
   ]
  },
  {
   "cell_type": "code",
   "execution_count": null,
   "metadata": {},
   "outputs": [],
   "source": []
  }
 ],
 "metadata": {
  "kernelspec": {
   "display_name": "env_ml",
   "language": "python",
   "name": "env_ml"
  },
  "language_info": {
   "codemirror_mode": {
    "name": "ipython",
    "version": 3
   },
   "file_extension": ".py",
   "mimetype": "text/x-python",
   "name": "python",
   "nbconvert_exporter": "python",
   "pygments_lexer": "ipython3",
   "version": "3.6.9"
  }
 },
 "nbformat": 4,
 "nbformat_minor": 2
}
